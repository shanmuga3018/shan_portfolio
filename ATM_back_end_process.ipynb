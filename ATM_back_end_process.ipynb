{
  "nbformat": 4,
  "nbformat_minor": 0,
  "metadata": {
    "colab": {
      "provenance": [],
      "include_colab_link": true
    },
    "kernelspec": {
      "name": "python3",
      "display_name": "Python 3"
    },
    "language_info": {
      "name": "python"
    }
  },
  "cells": [
    {
      "cell_type": "markdown",
      "metadata": {
        "id": "view-in-github",
        "colab_type": "text"
      },
      "source": [
        "<a href=\"https://colab.research.google.com/github/shanmuga3018/shan_portfolio/blob/main/ATM_back_end_process.ipynb\" target=\"_parent\"><img src=\"https://colab.research.google.com/assets/colab-badge.svg\" alt=\"Open In Colab\"/></a>"
      ]
    },
    {
      "cell_type": "markdown",
      "metadata": {
        "id": "YOlPQC8IMytm"
      },
      "source": [
        "Banking ATM backend process for Deposit withdrawal and balance enquiry using python"
      ]
    },
    {
      "cell_type": "code",
      "metadata": {
        "id": "vIW7QRJeMbBI",
        "colab": {
          "base_uri": "https://localhost:8080/"
        },
        "outputId": "7025ef71-ecff-4ade-81ec-cf8ed07766a8"
      },
      "source": [
        "\n",
        "class HDFCBank :\n",
        "    def __init__ (self):\n",
        "      self.balance = 0\n",
        "      \n",
        "      print(\"The account is created \")\n",
        "    def deposit (self):\n",
        "        amount = int(input(\"Enter the amount to be deposit: \"))\n",
        "        self.balance = self.balance + amount\n",
        "        print (\"Deposit is successful and the balance in the account is %f\" % self.balance)\n",
        "    def withdraw(self):\n",
        "        \n",
        "      amount = int(input(\"Enter the amount to withdraw in multiple of 100, 500, 1000: \"))\n",
        "         \n",
        "      if (self.balance >= amount):\n",
        "          self.balance = self.balance-amount\n",
        "          print(\"The withdraw is sucessfull and balance is %f\" % self.balance)\n",
        "      else:\n",
        "          print('Insufficient Balance')\n",
        "\n",
        "    def enquiry(self):\n",
        "      print(\"balance in the account is %f\" % self.balance)\n",
        "def UserLogin():\n",
        "  print(\"Welcome to HDFC Bank...!\")\n",
        "  retry=1\n",
        "  while retry <= 3:\n",
        "    Ipin=int(input(\"Enter Your PIN: \"))\n",
        "    if Ipin == 1234:\n",
        "      print(\"Your Ipin is valid\")\n",
        "      return True\n",
        "    elif retry <= 3 and Ipin != 1234:\n",
        "      print(\"Your Ipin is Invalid, Please Retry Again you have attempted \", 3 - retry ,\" remaining: \")\n",
        "      retry= retry + 1\n",
        "  else:\n",
        "    print(\"Your Account is Temporarly Locked...!\")\n",
        "    exit()\n",
        "\n",
        "if __name__==\"__main__\":\n",
        "  \n",
        "  if UserLogin():\n",
        "    acc = HDFCBank()\n",
        "    run=True\n",
        "    while run == True:\n",
        "        print(\"Please Select your action: \\nD - Deposit \\nWD - Withdrawal \\nB - Balance Enquiry \\nE - Exit: \")\n",
        "        Choice=input(\"Enter Your Action here: \")\n",
        "        if Choice.upper() == \"D\":\n",
        "            acc.deposit()\n",
        "        elif Choice.upper() == \"WD\":\n",
        "            acc.withdraw()\n",
        "        elif Choice.upper() == \"B\":\n",
        "            acc.enquiry()    \n",
        "        elif Choice.upper() == \"E\":\n",
        "            print(\"BYE...!!\")\n",
        "            run=False\n",
        "            exit()\n",
        "        else:\n",
        "          print(\"Invalid Option...\")\n"
      ],
      "execution_count": null,
      "outputs": [
        {
          "output_type": "stream",
          "name": "stdout",
          "text": [
            "Welcome to HDFC Bank...!\n"
          ]
        }
      ]
    }
  ]
}